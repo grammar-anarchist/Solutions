{
 "cells": [
  {
   "cell_type": "markdown",
   "metadata": {},
   "source": [
    "**5.13**\n",
    "Подробная фильтрация (добавлять ничего не пришлось):"
   ]
  },
  {
   "cell_type": "code",
   "execution_count": 162,
   "metadata": {},
   "outputs": [],
   "source": [
    "simpleces = [([1], 0), ([2], 0), ([3], 0), ([1,2], 4), ([2,3], 4), ([4], 4), ([1,4], 5), ([3,4], 5),\n",
    "             ([1,3], 7), ([2,4], 10), ([1,2,3], 16), ([1,2,4], 16), ([1,3,4], 16), ([2,3,4], 20), ([1,2,3,4], 23)]\n",
    "max_time = 23"
   ]
  },
  {
   "cell_type": "code",
   "execution_count": 163,
   "metadata": {},
   "outputs": [],
   "source": [
    "import dionysus as dio\n",
    "import numpy as np"
   ]
  },
  {
   "cell_type": "code",
   "execution_count": 164,
   "metadata": {},
   "outputs": [],
   "source": [
    "\n",
    "filtration = dio.Filtration()\n",
    "for simplex, time in simpleces:\n",
    "    filtration.append(dio.Simplex(simplex, time))\n",
    "    \n",
    "pairs = []\n",
    "free = []\n",
    "reduced_matrix = dio.homology_persistence(filtration)\n",
    "full_matrix =  np.zeros((len(simpleces), len(simpleces)))\n",
    "\n",
    "for i in range(len(reduced_matrix)):\n",
    "    for j in range(len(reduced_matrix[i])):\n",
    "        matrix_itself[reduced_matrix[i][j].index][i] = reduced_matrix[i][j].element\n",
    "    pair = reduced_matrix.pair(i)\n",
    "    if pair == reduced_matrix.unpaired:\n",
    "        free.append(i)\n",
    "    elif i < pair:\n",
    "        pairs.append((i, pair))"
   ]
  },
  {
   "cell_type": "markdown",
   "metadata": {},
   "source": [
    "Сама приведенная матрица:"
   ]
  },
  {
   "cell_type": "code",
   "execution_count": 165,
   "metadata": {},
   "outputs": [
    {
     "name": "stdout",
     "output_type": "stream",
     "text": [
      "[[0. 0. 0. 1. 0. 0. 1. 0. 0. 0. 0. 0. 0. 0. 0.]\n",
      " [0. 0. 0. 1. 1. 0. 0. 0. 0. 0. 0. 0. 0. 0. 0.]\n",
      " [0. 0. 0. 0. 1. 0. 0. 0. 0. 0. 0. 0. 0. 0. 0.]\n",
      " [0. 0. 0. 0. 0. 0. 0. 0. 0. 0. 1. 1. 1. 0. 0.]\n",
      " [0. 0. 0. 0. 0. 0. 0. 0. 0. 0. 1. 0. 1. 0. 0.]\n",
      " [0. 0. 0. 0. 0. 0. 1. 0. 0. 0. 0. 0. 0. 0. 0.]\n",
      " [0. 0. 0. 0. 0. 0. 0. 0. 0. 0. 0. 1. 1. 0. 0.]\n",
      " [0. 0. 0. 0. 0. 0. 0. 0. 0. 0. 0. 0. 1. 0. 0.]\n",
      " [0. 0. 0. 0. 0. 0. 0. 0. 0. 0. 1. 0. 0. 0. 0.]\n",
      " [0. 0. 0. 0. 0. 0. 0. 0. 0. 0. 0. 1. 0. 0. 0.]\n",
      " [0. 0. 0. 0. 0. 0. 0. 0. 0. 0. 0. 0. 0. 0. 1.]\n",
      " [0. 0. 0. 0. 0. 0. 0. 0. 0. 0. 0. 0. 0. 0. 1.]\n",
      " [0. 0. 0. 0. 0. 0. 0. 0. 0. 0. 0. 0. 0. 0. 1.]\n",
      " [0. 0. 0. 0. 0. 0. 0. 0. 0. 0. 0. 0. 0. 0. 1.]\n",
      " [0. 0. 0. 0. 0. 0. 0. 0. 0. 0. 0. 0. 0. 0. 0.]]\n"
     ]
    }
   ],
   "source": [
    "print(matrix_itself)"
   ]
  },
  {
   "cell_type": "markdown",
   "metadata": {},
   "source": [
    "Сопряженные пары:"
   ]
  },
  {
   "cell_type": "code",
   "execution_count": 166,
   "metadata": {},
   "outputs": [
    {
     "name": "stdout",
     "output_type": "stream",
     "text": [
      "[2] [1, 2]\n",
      "[3] [2, 3]\n",
      "[4] [1, 4]\n",
      "[3, 4] [1, 3, 4]\n",
      "[1, 3] [1, 2, 3]\n",
      "[2, 4] [1, 2, 4]\n",
      "[2, 3, 4] [1, 2, 3, 4]\n"
     ]
    }
   ],
   "source": [
    "for i in pairs:\n",
    "    print(simpleces[i[0]][0], simpleces[i[1]][0])"
   ]
  },
  {
   "cell_type": "markdown",
   "metadata": {},
   "source": [
    "Одиночные симплексы:"
   ]
  },
  {
   "cell_type": "code",
   "execution_count": 167,
   "metadata": {},
   "outputs": [
    {
     "name": "stdout",
     "output_type": "stream",
     "text": [
      "[1]\n"
     ]
    }
   ],
   "source": [
    "for i in free:\n",
    "    print(simpleces[i][0])"
   ]
  },
  {
   "cell_type": "markdown",
   "metadata": {},
   "source": [
    "Диаграмма устойчивости:"
   ]
  },
  {
   "cell_type": "code",
   "execution_count": 172,
   "metadata": {},
   "outputs": [
    {
     "data": {
      "image/png": "[encoded data removed]",
      "text/plain": [
       "<Figure size 432x288 with 1 Axes>"
      ]
     },
     "metadata": {
      "needs_background": "light"
     },
     "output_type": "display_data"
    }
   ],
   "source": [
    "import matplotlib.pyplot as plt\n",
    "\n",
    "for i in range(len(pairs)):\n",
    "    pair = pairs[i]\n",
    "    plt.plot([simpleces[pair[0]][1], simpleces[pair[1]][1]], \n",
    "             [str(simpleces[pair[0]][0]), str(simpleces[pair[0]][0])], color=\"green\")\n",
    "    \n",
    "for i in free:\n",
    "    plt.plot([simpleces[i][1], max_time], [str(simpleces[i][0]), str(simpleces[i][0])], color=\"red\", label=\"Вечно живущая\")\n",
    "    plt.legend()"
   ]
  },
  {
   "cell_type": "markdown",
   "metadata": {},
   "source": [
    "**5.14**"
   ]
  },
  {
   "cell_type": "markdown",
   "metadata": {},
   "source": [
    "Сразу добавим недостающие симплексы больших размерностей:"
   ]
  },
  {
   "cell_type": "code",
   "execution_count": 210,
   "metadata": {},
   "outputs": [
    {
     "name": "stdout",
     "output_type": "stream",
     "text": [
      "[([1], 0), ([2], 0), ([3], 0), ([1, 2], 2), ([4], 2.5), ([5], 3), ([2, 3], 3), ([3, 4], 3.7), ([1, 4], 4), ([1, 5], 4.3), ([4, 5], 5), ([3, 5], 7.9), ([6], 8), ([1, 6], 9), ([3, 6], 9), ([2, 6], 9.3), ([2, 5], 10.2), ([4, 6], 12), ([1, 2, 5], 10.2), ([1, 2, 6], 9.3), ([1, 4, 5], 5), ([1, 4, 6], 12), ([2, 3, 5], 10.2), ([2, 3, 6], 9.3), ([3, 4, 5], 7.9), ([3, 4, 6], 12)]\n"
     ]
    }
   ],
   "source": [
    "import itertools as itt\n",
    "\n",
    "simpleces = [([1], 0), ([2], 0), ([3], 0), ([1,2], 2), ([4], 2.5), ([5], 3), ([2,3], 3), ([3,4], 3.7), ([1,4], 4), \n",
    "             ([1,5], 4.3), ([4,5], 5), ([3,5], 7.9), ([6], 8), ([1,6], 9), ([3,6], 9), ([2,6], 9.3), ([2,5], 10.2), \n",
    "             ([4,6], 12)]\n",
    "max_time = 12\n",
    "\n",
    "vertice_num = 6\n",
    "for i in range(3, vertice_num + 1):\n",
    "    for comb in list(itt.combinations(range(1, vertice_num + 1), i)):\n",
    "        subcombs = list(map(list, itt.combinations(comb, i - 1)))\n",
    "        times = []\n",
    "        for elem in simpleces:\n",
    "            if elem[0] in subcombs:\n",
    "                times.append(elem[1])\n",
    "        if len(times) == i:\n",
    "            simpleces.append((list(comb), max(times)))\n",
    "\n",
    "print(simpleces)"
   ]
  },
  {
   "cell_type": "code",
   "execution_count": 211,
   "metadata": {},
   "outputs": [],
   "source": [
    "filtration = dio.Filtration()\n",
    "for simplex, time in simpleces:\n",
    "    filtration.append(dio.Simplex(simplex, time))\n",
    "filtration.sort()\n",
    "\n",
    "pairs = []\n",
    "free = []\n",
    "reduced_matrix = dio.homology_persistence(filtration)\n",
    "\n",
    "for i in range(len(reduced_matrix)):\n",
    "    pair = reduced_matrix.pair(i)\n",
    "    if pair == reduced_matrix.unpaired:\n",
    "        free.append(i)\n",
    "    elif i < pair:\n",
    "        pairs.append((i, pair))\n"
   ]
  },
  {
   "cell_type": "code",
   "execution_count": 212,
   "metadata": {},
   "outputs": [
    {
     "data": {
      "image/png": "[encoded data removed]",
      "text/plain": [
       "<Figure size 432x288 with 1 Axes>"
      ]
     },
     "metadata": {
      "needs_background": "light"
     },
     "output_type": "display_data"
    }
   ],
   "source": [
    "import matplotlib.pyplot as plt\n",
    "\n",
    "for i in range(len(pairs)):\n",
    "    pair = pairs[i]\n",
    "    if (filtration[pair[0]].data - filtration[pair[1]].data) < 0:\n",
    "        plt.plot([filtration[pair[0]].data, filtration[pair[1]].data],\n",
    "                 [str(filtration[pair[0]]).split()[0], str(filtration[pair[0]]).split()[0]], color=\"green\")\n",
    "    \n",
    "for i in free:\n",
    "    plt.plot([filtration[i].data, max_time + 1], [str(filtration[i]).split()[0], str(filtration[i]).split()[0]], color=\"red\")\n",
    "                                                 "
   ]
  },
  {
   "cell_type": "code",
   "execution_count": null,
   "metadata": {},
   "outputs": [],
   "source": []
  }
 ],
 "metadata": {
  "kernelspec": {
   "display_name": "Python 3",
   "language": "python",
   "name": "python3"
  },
  "language_info": {
   "codemirror_mode": {
    "name": "ipython",
    "version": 3
   },
   "file_extension": ".py",
   "mimetype": "text/x-python",
   "name": "python",
   "nbconvert_exporter": "python",
   "pygments_lexer": "ipython3",
   "version": "3.7.4"
  }
 },
 "nbformat": 4,
 "nbformat_minor": 4
}
